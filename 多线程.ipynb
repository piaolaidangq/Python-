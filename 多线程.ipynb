{
 "cells": [
  {
   "cell_type": "markdown",
   "metadata": {},
   "source": [
    "## python使用线程的两种方式：\n",
    "* 函数式\n",
    "* 类包装线程对象"
   ]
  },
  {
   "cell_type": "markdown",
   "metadata": {},
   "source": [
    "### 1. 函数式：调用thread模块中的start_new_thread()函数来产生新线程"
   ]
  },
  {
   "cell_type": "code",
   "execution_count": 14,
   "metadata": {},
   "outputs": [
    {
     "name": "stdout",
     "output_type": "stream",
     "text": [
      "Thread-1 Sat Aug 17 13:00:12 2019\n",
      "Thread-2 Sat Aug 17 13:00:14 2019\n",
      "Thread-1 Sat Aug 17 13:00:14 2019\n",
      "Thread-1 Sat Aug 17 13:00:16 2019\n",
      "Thread-2 Sat Aug 17 13:00:18 2019\n",
      "Thread-2 Sat Aug 17 13:00:22 2019\n"
     ]
    }
   ],
   "source": [
    "import _thread\n",
    "import time\n",
    "\n",
    "# 为线程定义函数\n",
    "def print_time(threadName, delay):\n",
    "    count = 0\n",
    "    while count < 3:\n",
    "        time.sleep(delay)\n",
    "        count += 1\n",
    "        print(threadName, time.ctime())\n",
    "        \n",
    "# 创建两个线程\n",
    "try:\n",
    "    _thread.start_new_thread(print_time, ('Thread-1', 2))\n",
    "    _thread.start_new_thread(print_time, ('Thread-2', 4))\n",
    "except:\n",
    "    print('Error:unable to start thread')"
   ]
  },
  {
   "cell_type": "code",
   "execution_count": null,
   "metadata": {},
   "outputs": [],
   "source": [
    "https://www.cnblogs.com/lht-record/p/8329722.html"
   ]
  },
  {
   "cell_type": "code",
   "execution_count": 13,
   "metadata": {
    "collapsed": true
   },
   "outputs": [
    {
     "ename": "ModuleNotFoundError",
     "evalue": "No module named 'thread'",
     "output_type": "error",
     "traceback": [
      "\u001b[1;31m---------------------------------------------------------------------------\u001b[0m",
      "\u001b[1;31mModuleNotFoundError\u001b[0m                       Traceback (most recent call last)",
      "\u001b[1;32m<ipython-input-13-e75c663b2a08>\u001b[0m in \u001b[0;36m<module>\u001b[1;34m()\u001b[0m\n\u001b[1;32m----> 1\u001b[1;33m \u001b[1;32mimport\u001b[0m \u001b[0mthread\u001b[0m\u001b[1;33m\u001b[0m\u001b[0m\n\u001b[0m",
      "\u001b[1;31mModuleNotFoundError\u001b[0m: No module named 'thread'"
     ]
    }
   ],
   "source": [
    "try:\n",
    "    _thread.start_new_thread(print_time, ('Thread-3', 2))\n",
    "except:\n",
    "    print('Error:unable to start thread')"
   ]
  },
  {
   "cell_type": "code",
   "execution_count": null,
   "metadata": {},
   "outputs": [],
   "source": []
  }
 ],
 "metadata": {
  "kernelspec": {
   "display_name": "Python 3",
   "language": "python",
   "name": "python3"
  },
  "language_info": {
   "codemirror_mode": {
    "name": "ipython",
    "version": 3
   },
   "file_extension": ".py",
   "mimetype": "text/x-python",
   "name": "python",
   "nbconvert_exporter": "python",
   "pygments_lexer": "ipython3",
   "version": "3.7.0"
  }
 },
 "nbformat": 4,
 "nbformat_minor": 2
}
