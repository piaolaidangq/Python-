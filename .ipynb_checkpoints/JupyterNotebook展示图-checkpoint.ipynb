{
 "cells": [
  {
   "cell_type": "markdown",
   "metadata": {},
   "source": [
    "### 静态图"
   ]
  },
  {
   "cell_type": "code",
   "execution_count": 1,
   "metadata": {},
   "outputs": [
    {
     "data": {
      "image/png": "[encoded data removed]",
      "text/plain": [
       "<Figure size 324x216 with 1 Axes>"
      ]
     },
     "metadata": {
      "needs_background": "light"
     },
     "output_type": "display_data"
    }
   ],
   "source": [
    "import numpy as np\n",
    "import matplotlib.pyplot as plt\n",
    "%matplotlib inline\n",
    "\n",
    "fig = plt.figure(figsize=(4.5, 3))\n",
    "ax = fig.add_subplot(1, 1, 1)\n",
    "\n",
    "x = np.linspace(-5, 5, 100)\n",
    "y = x**2\n",
    "ax.plot(x, y, 'r-')\n",
    "\n",
    "fig.savefig('static_map.png')"
   ]
  },
  {
   "cell_type": "markdown",
   "metadata": {},
   "source": [
    "### 动态图"
   ]
  },
  {
   "cell_type": "code",
   "execution_count": 1,
   "metadata": {},
   "outputs": [
    {
     "name": "stdout",
     "output_type": "stream",
     "text": [
      "Using matplotlib backend: Qt5Agg\n"
     ]
    }
   ],
   "source": [
    "import numpy as np\n",
    "import matplotlib.pyplot as plt\n",
    "%matplotlib\n",
    "\n",
    "def expand(mi, mx):\n",
    "    inter = (mx - mi) * 0.05\n",
    "    return mi-inter, mx+inter\n",
    "\n",
    "x_min, x_max = expand(-5, 5)\n",
    "y_min, y_max = expand(0, 25)\n",
    "\n",
    "fig = plt.figure(figsize=(4.5, 3))\n",
    "ax = fig.add_subplot(1, 1, 1)\n",
    "ax.axis([x_min, x_max, y_min, y_max])    # 固定 X 轴和 Y 轴坐标范围\n",
    "plt.ion()                                # 连续动态图\n",
    "\n",
    "# 初始化 (x, y) 坐标\n",
    "pre_x = -5 \n",
    "pre_y = pre_x ** 2\n",
    "\n",
    "for _ in range(100):                    # 以 0.1 的步长更新 x，绘制 y=x**2 的动态图\n",
    "    cur_x = pre_x + 0.1\n",
    "    cur_y = cur_x ** 2\n",
    "    \n",
    "    ax.plot([pre_x, cur_x], [pre_y, cur_y], 'r-')\n",
    "    plt.pause(0.1)                       # 每次绘制后暂停 0.1 秒\n",
    "    \n",
    "    pre_x, pre_y = cur_x, cur_y"
   ]
  },
  {
   "cell_type": "markdown",
   "metadata": {},
   "source": [
    "### 保存为gif文件"
   ]
  },
  {
   "cell_type": "code",
   "execution_count": 2,
   "metadata": {},
   "outputs": [
    {
     "name": "stderr",
     "output_type": "stream",
     "text": [
      "MovieWriter ffmpeg unavailable.\n"
     ]
    },
    {
     "name": "stdout",
     "output_type": "stream",
     "text": [
      "Using matplotlib backend: Qt5Agg\n"
     ]
    }
   ],
   "source": [
    "import numpy as np\n",
    "import matplotlib.animation as animation\n",
    "import matplotlib.pyplot as plt\n",
    "%matplotlib\n",
    "\n",
    "x = np.linspace(-5, 5, 100)\n",
    "y = x**2\n",
    "\n",
    "def expand(mi, mx):\n",
    "    inter = (mx - mi) * 0.05\n",
    "    return mi-inter, mx+inter\n",
    "\n",
    "x_min, x_max = expand(-5, 5)\n",
    "y_min, y_max = expand(0, 25)\n",
    "\n",
    "fig = plt.figure(figsize=(4.5, 3))\n",
    "ax = fig.add_subplot(1, 1, 1)\n",
    "ax.axis([x_min, x_max, y_min, y_max])   # 固定 X 轴和 Y 轴坐标范围\n",
    "ims = []\n",
    "\n",
    "for i in range(2, len(x)):\n",
    "    im = ax.plot(x[:i], y[:i], 'r-')\n",
    "    ims.append(im)\n",
    "    \n",
    "gif = animation.ArtistAnimation(fig, ims, interval=100, repeat_delay=1500)   # interval每一帧之间的间隔，repeat_delay每显示一次动画后间隔多长时间重复\n",
    "gif.save('dynamic_map.gif')"
   ]
  },
  {
   "cell_type": "markdown",
   "metadata": {},
   "source": [
    "### 原示例"
   ]
  },
  {
   "cell_type": "code",
   "execution_count": 26,
   "metadata": {},
   "outputs": [
    {
     "name": "stdout",
     "output_type": "stream",
     "text": [
      "Using matplotlib backend: Qt5Agg\n"
     ]
    }
   ],
   "source": [
    "import numpy as np\n",
    "import matplotlib.animation as animation\n",
    "import matplotlib.pyplot as plt\n",
    "%matplotlib auto\n",
    "\n",
    "fig, ax = plt.subplots()\n",
    "ax.axis([-5, 5, 0, 25])   # 固定 X 轴和 Y 轴坐标范围\n",
    "ims = []\n",
    "\n",
    "# 初始化 (x, y) 坐标\n",
    "pre_x = -5 \n",
    "pre_y = pre_x ** 2\n",
    "x, y = [pre_x], [pre_y]\n",
    "for _ in range(100):     # 以 0.1 的步长更新 x，绘制 y=x**2 的动态图\n",
    "    cur_x = pre_x + 0.1\n",
    "    cur_y = cur_x ** 2\n",
    "    x.append(cur_x)\n",
    "    y.append(cur_y)\n",
    "    \n",
    "    im = ax.plot(x, y, 'r-')\n",
    "    ims.append(im)\n",
    "   \n",
    "    pre_x, pre_y = cur_x, cur_y\n",
    "\n",
    "ani = animation.ArtistAnimation(fig, ims, interval=100, repeat_delay=1000)\n",
    "ani.save(\"test.gif\",writer='pillow')"
   ]
  },
  {
   "cell_type": "markdown",
   "metadata": {},
   "source": [
    "### 展示本地的图片"
   ]
  },
  {
   "cell_type": "markdown",
   "metadata": {},
   "source": [
    "![title](dynamic_map.gif)"
   ]
  },
  {
   "cell_type": "markdown",
   "metadata": {},
   "source": [
    "![title](static_map.png)"
   ]
  },
  {
   "cell_type": "code",
   "execution_count": null,
   "metadata": {},
   "outputs": [],
   "source": []
  },
  {
   "cell_type": "markdown",
   "metadata": {},
   "source": [
    "### np.random.random()\n",
    "* 生成随机浮点数"
   ]
  },
  {
   "cell_type": "code",
   "execution_count": 1,
   "metadata": {},
   "outputs": [
    {
     "data": {
      "text/plain": [
       "0.7043359983293627"
      ]
     },
     "execution_count": 1,
     "metadata": {},
     "output_type": "execute_result"
    }
   ],
   "source": [
    "import numpy as np\n",
    "\n",
    "np.random.random()"
   ]
  },
  {
   "cell_type": "code",
   "execution_count": 2,
   "metadata": {},
   "outputs": [
    {
     "data": {
      "text/plain": [
       "array([0.47742907, 0.6646393 , 0.07284399])"
      ]
     },
     "execution_count": 2,
     "metadata": {},
     "output_type": "execute_result"
    }
   ],
   "source": [
    "np.random.random(3)"
   ]
  },
  {
   "cell_type": "code",
   "execution_count": 3,
   "metadata": {},
   "outputs": [
    {
     "data": {
      "text/plain": [
       "array([[0.19946184, 0.41074631, 0.38499142],\n",
       "       [0.71293175, 0.98572503, 0.83061767]])"
      ]
     },
     "execution_count": 3,
     "metadata": {},
     "output_type": "execute_result"
    }
   ],
   "source": [
    "np.random.random([2, 3])"
   ]
  }
 ],
 "metadata": {
  "kernelspec": {
   "display_name": "Python 3",
   "language": "python",
   "name": "python3"
  },
  "language_info": {
   "codemirror_mode": {
    "name": "ipython",
    "version": 3
   },
   "file_extension": ".py",
   "mimetype": "text/x-python",
   "name": "python",
   "nbconvert_exporter": "python",
   "pygments_lexer": "ipython3",
   "version": "3.7.0"
  }
 },
 "nbformat": 4,
 "nbformat_minor": 2
}
