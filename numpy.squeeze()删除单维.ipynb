{
 "cells": [
  {
   "cell_type": "code",
   "execution_count": 2,
   "metadata": {},
   "outputs": [
    {
     "name": "stdout",
     "output_type": "stream",
     "text": [
      "x=\n",
      " [[[0]\n",
      "  [1]\n",
      "  [2]]]\n",
      "x.shape=\n",
      " (1, 3, 1)\n",
      "x1=\n",
      " [0 1 2]\n",
      "x1.shape=\n",
      " (3,)\n"
     ]
    }
   ],
   "source": [
    "import numpy as np\n",
    "\n",
    "x = np.array([[[0], [1], [2]]])\n",
    "print('x=\\n', x)\n",
    "print('x.shape=\\n', x.shape)  \n",
    "\n",
    "x1 = np.squeeze(x)  \n",
    "\n",
    "print('x1=\\n', x1)  \n",
    "print('x1.shape=\\n', x1.shape)  "
   ]
  },
  {
   "cell_type": "markdown",
   "metadata": {},
   "source": [
    "##### squeeze 函数：从数组的形状中删除单维度条目，即把shape中为1的维度去掉\n",
    "用法：numpy.squeeze(a,axis = None)\n",
    "* a表示输入的数组；\n",
    "* axis用于指定需要删除的维度，但是指定的维度必须为单维度，否则将会报错；\n",
    "* axis的取值可为None 或 int 或 tuple of ints, 可选。若axis为空，则删除所有单维度的条目；\n",
    "* 返回值：数组\n",
    "* 不会修改原数组"
   ]
  },
  {
   "cell_type": "code",
   "execution_count": 3,
   "metadata": {},
   "outputs": [
    {
     "name": "stdout",
     "output_type": "stream",
     "text": [
      "x=\n",
      " [[[0 0]\n",
      "  [1 1]\n",
      "  [2 2]]]\n",
      "x.shape=\n",
      " (1, 3, 2)\n",
      "x1=\n",
      " [[0 0]\n",
      " [1 1]\n",
      " [2 2]]\n",
      "x1.shape=\n",
      " (3, 2)\n"
     ]
    }
   ],
   "source": [
    "x = np.array([[[0,0], [1,1], [2,2]]])\n",
    "print('x=\\n', x)\n",
    "print('x.shape=\\n', x.shape)  \n",
    "\n",
    "x1 = np.squeeze(x)  \n",
    "\n",
    "print('x1=\\n', x1)  \n",
    "print('x1.shape=\\n', x1.shape)  "
   ]
  },
  {
   "cell_type": "markdown",
   "metadata": {},
   "source": [
    "#### 解决了报错：\n",
    "* ValueError: c of shape (46, 1) not acceptable as a color sequence for x with size 46, y with size 46\n",
    "#### 使用\n",
    "* plt.scatter(x_test[:, 0], x_test[:, 1], s=60, c=np.squeeze(y_test), marker='^', cmap=cm_dark, edgecolors='k')\n",
    "#### 分析\n",
    "* 修改c参数（颜色序列），起到降维的作用。"
   ]
  },
  {
   "cell_type": "code",
   "execution_count": null,
   "metadata": {},
   "outputs": [],
   "source": []
  }
 ],
 "metadata": {
  "kernelspec": {
   "display_name": "Python 3",
   "language": "python",
   "name": "python3"
  },
  "language_info": {
   "codemirror_mode": {
    "name": "ipython",
    "version": 3
   },
   "file_extension": ".py",
   "mimetype": "text/x-python",
   "name": "python",
   "nbconvert_exporter": "python",
   "pygments_lexer": "ipython3",
   "version": "3.7.0"
  }
 },
 "nbformat": 4,
 "nbformat_minor": 2
}
